{
 "cells": [
  {
   "cell_type": "code",
   "execution_count": 1,
   "metadata": {},
   "outputs": [],
   "source": [
    "a = open(\"C:/Users/jlim13/Google Drive/03. 2019spring/ML/Assignment 0/books/A_Dolls_House_by_Henrik_Ibsen.rtf\", 'r', encoding=\"utf8\")\n",
    "book1 = a.read()"
   ]
  },
  {
   "cell_type": "code",
   "execution_count": 2,
   "metadata": {},
   "outputs": [],
   "source": [
    "b = open(\"C:/Users/jlim13/Google Drive/03. 2019spring/ML/Assignment 0/books/A_Tale_of_Two_Cities_by_Charles_Dickens.rtf\", 'r', encoding=\"utf8\")\n",
    "book2 = b.read()"
   ]
  },
  {
   "cell_type": "code",
   "execution_count": 3,
   "metadata": {},
   "outputs": [],
   "source": [
    "c = open(\"C:/Users/jlim13/Google Drive/03. 2019spring/ML/Assignment 0/books/Adventures_of_Huckleberry_Finn_by_Mark_Twain.rtf\", 'r', encoding=\"utf8\")\n",
    "book3 = c.read()"
   ]
  },
  {
   "cell_type": "code",
   "execution_count": 4,
   "metadata": {},
   "outputs": [],
   "source": [
    "d = open(\"C:/Users/jlim13/Google Drive/03. 2019spring/ML/Assignment 0/books/Alices_Adventures_in_Wonderland_by_Lewis_Carroll.rtf\", 'r', encoding=\"utf8\")\n",
    "book4 = d.read()"
   ]
  },
  {
   "cell_type": "code",
   "execution_count": 5,
   "metadata": {},
   "outputs": [],
   "source": [
    "e = open(\"C:/Users/jlim13/Google Drive/03. 2019spring/ML/Assignment 0/books/Dracula_by_Bram_Stoker.rtf\", 'r', encoding=\"utf8\")\n",
    "book5 = e.read()"
   ]
  },
  {
   "cell_type": "code",
   "execution_count": 6,
   "metadata": {},
   "outputs": [],
   "source": [
    "f = open(\"C:/Users/jlim13/Google Drive/03. 2019spring/ML/Assignment 0/books/Emma_by_Jane_Austen.rtf\", 'r', encoding=\"utf8\")\n",
    "book6 = f.read()"
   ]
  },
  {
   "cell_type": "code",
   "execution_count": 7,
   "metadata": {},
   "outputs": [],
   "source": [
    "g = open(\"C:/Users/jlim13/Google Drive/03. 2019spring/ML/Assignment 0/books/Frankenstein_by_Mary_Shelley.rtf\", 'r', encoding=\"utf8\")\n",
    "book7 = g.read()"
   ]
  },
  {
   "cell_type": "code",
   "execution_count": 8,
   "metadata": {},
   "outputs": [],
   "source": [
    "h = open(\"C:/Users/jlim13/Google Drive/03. 2019spring/ML/Assignment 0/books/Great_Expectations_by_Charles_Dickens.rtf\", 'r', encoding=\"utf8\")\n",
    "book8 = h.read()"
   ]
  },
  {
   "cell_type": "code",
   "execution_count": 9,
   "metadata": {},
   "outputs": [],
   "source": [
    "i = open(\"C:/Users/jlim13/Google Drive/03. 2019spring/ML/Assignment 0/books/Grimms_Fairy_Tales_by_The_Brothers_Grimm.rtf\", 'r', encoding=\"utf8\")\n",
    "book9 = i.read()"
   ]
  },
  {
   "cell_type": "code",
   "execution_count": 10,
   "metadata": {},
   "outputs": [],
   "source": [
    "j = open(\"C:/Users/jlim13/Google Drive/03. 2019spring/ML/Assignment 0/books/Metamorphosis_by_Franz_Kafka.rtf\", 'r', encoding=\"utf8\")\n",
    "book10 = j.read()"
   ]
  },
  {
   "cell_type": "code",
   "execution_count": 11,
   "metadata": {},
   "outputs": [],
   "source": [
    "k = open(\"C:/Users/jlim13/Google Drive/03. 2019spring/ML/Assignment 0/books/Pride_and_Prejudice_by_Jane_Austen.rtf\", 'r', encoding=\"utf8\")\n",
    "book11 = k.read()"
   ]
  },
  {
   "cell_type": "code",
   "execution_count": 12,
   "metadata": {},
   "outputs": [],
   "source": [
    "l = open(\"C:/Users/jlim13/Google Drive/03. 2019spring/ML/Assignment 0/books/The_Adventures_of_Sherlock_Holmes_by_Arthur_Conan_Doyle.rtf\", 'r', encoding=\"utf8\")\n",
    "book12 = l.read()"
   ]
  },
  {
   "cell_type": "code",
   "execution_count": 13,
   "metadata": {},
   "outputs": [],
   "source": [
    "m = open(\"C:/Users/jlim13/Google Drive/03. 2019spring/ML/Assignment 0/books/The_Adventures_of_Tom_Sawyer_by_Mark_Twain.rtf\", 'r', encoding=\"utf8\")\n",
    "book13 = m.read()"
   ]
  },
  {
   "cell_type": "code",
   "execution_count": 14,
   "metadata": {},
   "outputs": [],
   "source": [
    "n = open(\"C:/Users/jlim13/Google Drive/03. 2019spring/ML/Assignment 0/books/The_Count_of_Monte_Cristo_by_Alexandre_Dumas.rtf\", 'r', encoding=\"utf8\")\n",
    "book14 = n.read()"
   ]
  },
  {
   "cell_type": "code",
   "execution_count": 15,
   "metadata": {},
   "outputs": [],
   "source": [
    "o = open(\"C:/Users/jlim13/Google Drive/03. 2019spring/ML/Assignment 0/books/The_Importance_of_Being_Earnest_by_Oscar_Wilde.rtf\", 'r', encoding=\"utf8\")\n",
    "book15 = o.read()"
   ]
  },
  {
   "cell_type": "code",
   "execution_count": 16,
   "metadata": {},
   "outputs": [],
   "source": [
    "p = open(\"C:/Users/jlim13/Google Drive/03. 2019spring/ML/Assignment 0/books/The_Picture_of_Dorian_Gray_by_Oscar_Wilde.rtf\", 'r', encoding=\"utf8\")\n",
    "book16 = p.read()"
   ]
  },
  {
   "cell_type": "code",
   "execution_count": 17,
   "metadata": {},
   "outputs": [],
   "source": [
    "q = open(\"C:/Users/jlim13/Google Drive/03. 2019spring/ML/Assignment 0/books/The_Prince_by_Nicolo_Machiavelli.rtf\", 'r', encoding=\"utf8\")\n",
    "book17 = q.read()"
   ]
  },
  {
   "cell_type": "code",
   "execution_count": 18,
   "metadata": {},
   "outputs": [],
   "source": [
    "r = open(\"C:/Users/jlim13/Google Drive/03. 2019spring/ML/Assignment 0/books/The_Romance_of_Lust_by_Anonymous.rtf\", 'r', encoding=\"utf8\")\n",
    "book18 = r.read()"
   ]
  },
  {
   "cell_type": "code",
   "execution_count": 19,
   "metadata": {},
   "outputs": [],
   "source": [
    "s = open(\"C:/Users/jlim13/Google Drive/03. 2019spring/ML/Assignment 0/books/The_Yellow_Wallpaper_by_Charlotte_Perkins_Gilman.rtf\", 'r', encoding=\"utf8\")\n",
    "book19 = s.read()"
   ]
  },
  {
   "cell_type": "code",
   "execution_count": 20,
   "metadata": {},
   "outputs": [],
   "source": [
    "t = open(\"C:/Users/jlim13/Google Drive/03. 2019spring/ML/Assignment 0/books/Ulysses_by_James_Joyce.rtf\", 'r', encoding=\"utf8\")\n",
    "book20 = t.read()"
   ]
  },
  {
   "cell_type": "code",
   "execution_count": 21,
   "metadata": {},
   "outputs": [],
   "source": [
    "# A list of all unique words"
   ]
  },
  {
   "cell_type": "code",
   "execution_count": 22,
   "metadata": {},
   "outputs": [],
   "source": [
    "books = list(book1+book2+book3+book4+book5+book6+book7+book8+book9+book10\n",
    "             +book11+book12+book13+book14+book15+book16+book17+book18+book19+book20)"
   ]
  },
  {
   "cell_type": "code",
   "execution_count": 23,
   "metadata": {},
   "outputs": [],
   "source": [
    "# count of the words"
   ]
  },
  {
   "cell_type": "code",
   "execution_count": 24,
   "metadata": {},
   "outputs": [],
   "source": [
    "count=len(books)"
   ]
  },
  {
   "cell_type": "code",
   "execution_count": null,
   "metadata": {},
   "outputs": [],
   "source": [
    "print(\"The number of words is \", count)"
   ]
  }
 ],
 "metadata": {
  "kernelspec": {
   "display_name": "Python 3",
   "language": "python",
   "name": "python3"
  },
  "language_info": {
   "codemirror_mode": {
    "name": "ipython",
    "version": 3
   },
   "file_extension": ".py",
   "mimetype": "text/x-python",
   "name": "python",
   "nbconvert_exporter": "python",
   "pygments_lexer": "ipython3",
   "version": "3.6.5"
  }
 },
 "nbformat": 4,
 "nbformat_minor": 2
}
