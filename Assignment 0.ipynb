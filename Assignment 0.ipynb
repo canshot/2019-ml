{
 "cells": [
  {
   "cell_type": "code",
   "execution_count": 120,
   "metadata": {},
   "outputs": [],
   "source": [
    "a = open(\"C:/Users/jlim13/Google Drive/03. 2019spring/ML/Assignment 0/books/A_Dolls_House_by_Henrik_Ibsen.rtf\", 'r', encoding=\"utf8\")\n",
    "book1 = a.read()\n",
    "book1 = book1.split(\" \")"
   ]
  },
  {
   "cell_type": "code",
   "execution_count": 121,
   "metadata": {},
   "outputs": [],
   "source": [
    "b = open(\"C:/Users/jlim13/Google Drive/03. 2019spring/ML/Assignment 0/books/A_Tale_of_Two_Cities_by_Charles_Dickens.rtf\", 'r', encoding=\"utf8\")\n",
    "book2 = b.read()\n",
    "book2 = book2.split(\" \")"
   ]
  },
  {
   "cell_type": "code",
   "execution_count": 122,
   "metadata": {},
   "outputs": [],
   "source": [
    "c = open(\"C:/Users/jlim13/Google Drive/03. 2019spring/ML/Assignment 0/books/Adventures_of_Huckleberry_Finn_by_Mark_Twain.rtf\", 'r', encoding=\"utf8\")\n",
    "book3 = c.read()\n",
    "book3 = book3.split(\" \")"
   ]
  },
  {
   "cell_type": "code",
   "execution_count": 123,
   "metadata": {},
   "outputs": [],
   "source": [
    "d = open(\"C:/Users/jlim13/Google Drive/03. 2019spring/ML/Assignment 0/books/Alices_Adventures_in_Wonderland_by_Lewis_Carroll.rtf\", 'r', encoding=\"utf8\")\n",
    "book4 = d.read()\n",
    "book4 = book4.split(\" \")"
   ]
  },
  {
   "cell_type": "code",
   "execution_count": 124,
   "metadata": {},
   "outputs": [],
   "source": [
    "e = open(\"C:/Users/jlim13/Google Drive/03. 2019spring/ML/Assignment 0/books/Dracula_by_Bram_Stoker.rtf\", 'r', encoding=\"utf8\")\n",
    "book5 = e.read()\n",
    "book5 = book5.split(\" \")"
   ]
  },
  {
   "cell_type": "code",
   "execution_count": 125,
   "metadata": {},
   "outputs": [],
   "source": [
    "f = open(\"C:/Users/jlim13/Google Drive/03. 2019spring/ML/Assignment 0/books/Emma_by_Jane_Austen.rtf\", 'r', encoding=\"utf8\")\n",
    "book6 = f.read()\n",
    "book6 = book6.split(\" \")"
   ]
  },
  {
   "cell_type": "code",
   "execution_count": 126,
   "metadata": {},
   "outputs": [],
   "source": [
    "g = open(\"C:/Users/jlim13/Google Drive/03. 2019spring/ML/Assignment 0/books/Frankenstein_by_Mary_Shelley.rtf\", 'r', encoding=\"utf8\")\n",
    "book7 = g.read()\n",
    "book7 = book7.split(\" \")"
   ]
  },
  {
   "cell_type": "code",
   "execution_count": 127,
   "metadata": {},
   "outputs": [],
   "source": [
    "h = open(\"C:/Users/jlim13/Google Drive/03. 2019spring/ML/Assignment 0/books/Great_Expectations_by_Charles_Dickens.rtf\", 'r', encoding=\"utf8\")\n",
    "book8 = h.read()\n",
    "book8 = book8.split(\" \")"
   ]
  },
  {
   "cell_type": "code",
   "execution_count": 128,
   "metadata": {},
   "outputs": [],
   "source": [
    "i = open(\"C:/Users/jlim13/Google Drive/03. 2019spring/ML/Assignment 0/books/Grimms_Fairy_Tales_by_The_Brothers_Grimm.rtf\", 'r', encoding=\"utf8\")\n",
    "book9 = i.read()\n",
    "book9 = book9.split(\" \")"
   ]
  },
  {
   "cell_type": "code",
   "execution_count": 129,
   "metadata": {},
   "outputs": [],
   "source": [
    "j = open(\"C:/Users/jlim13/Google Drive/03. 2019spring/ML/Assignment 0/books/Metamorphosis_by_Franz_Kafka.rtf\", 'r', encoding=\"utf8\")\n",
    "book10 = j.read()\n",
    "book10 = book10.split(\" \")"
   ]
  },
  {
   "cell_type": "code",
   "execution_count": 130,
   "metadata": {},
   "outputs": [],
   "source": [
    "k = open(\"C:/Users/jlim13/Google Drive/03. 2019spring/ML/Assignment 0/books/Pride_and_Prejudice_by_Jane_Austen.rtf\", 'r', encoding=\"utf8\")\n",
    "book11 = k.read()\n",
    "book11 = book11.split(\" \")"
   ]
  },
  {
   "cell_type": "code",
   "execution_count": 131,
   "metadata": {},
   "outputs": [],
   "source": [
    "l = open(\"C:/Users/jlim13/Google Drive/03. 2019spring/ML/Assignment 0/books/The_Adventures_of_Sherlock_Holmes_by_Arthur_Conan_Doyle.rtf\", 'r', encoding=\"utf8\")\n",
    "book12 = l.read()\n",
    "book12 = book12.split(\" \")"
   ]
  },
  {
   "cell_type": "code",
   "execution_count": 132,
   "metadata": {},
   "outputs": [],
   "source": [
    "m = open(\"C:/Users/jlim13/Google Drive/03. 2019spring/ML/Assignment 0/books/The_Adventures_of_Tom_Sawyer_by_Mark_Twain.rtf\", 'r', encoding=\"utf8\")\n",
    "book13 = m.read()\n",
    "book13 = book13.split(\" \")"
   ]
  },
  {
   "cell_type": "code",
   "execution_count": 133,
   "metadata": {},
   "outputs": [],
   "source": [
    "n = open(\"C:/Users/jlim13/Google Drive/03. 2019spring/ML/Assignment 0/books/The_Count_of_Monte_Cristo_by_Alexandre_Dumas.rtf\", 'r', encoding=\"utf8\")\n",
    "book14 = n.read()\n",
    "book14 = book14.split(\" \")"
   ]
  },
  {
   "cell_type": "code",
   "execution_count": 134,
   "metadata": {},
   "outputs": [],
   "source": [
    "o = open(\"C:/Users/jlim13/Google Drive/03. 2019spring/ML/Assignment 0/books/The_Importance_of_Being_Earnest_by_Oscar_Wilde.rtf\", 'r', encoding=\"utf8\")\n",
    "book15 = o.read()\n",
    "book15 = book15.split(\" \")"
   ]
  },
  {
   "cell_type": "code",
   "execution_count": 135,
   "metadata": {},
   "outputs": [],
   "source": [
    "p = open(\"C:/Users/jlim13/Google Drive/03. 2019spring/ML/Assignment 0/books/The_Picture_of_Dorian_Gray_by_Oscar_Wilde.rtf\", 'r', encoding=\"utf8\")\n",
    "book16 = p.read()\n",
    "book16 = book16.split(\" \")"
   ]
  },
  {
   "cell_type": "code",
   "execution_count": 136,
   "metadata": {},
   "outputs": [],
   "source": [
    "q = open(\"C:/Users/jlim13/Google Drive/03. 2019spring/ML/Assignment 0/books/The_Prince_by_Nicolo_Machiavelli.rtf\", 'r', encoding=\"utf8\")\n",
    "book17 = q.read()\n",
    "book17 = book17.split(\" \")"
   ]
  },
  {
   "cell_type": "code",
   "execution_count": 137,
   "metadata": {},
   "outputs": [],
   "source": [
    "r = open(\"C:/Users/jlim13/Google Drive/03. 2019spring/ML/Assignment 0/books/The_Romance_of_Lust_by_Anonymous.rtf\", 'r', encoding=\"utf8\")\n",
    "book18 = r.read()\n",
    "book18 = book18.split(\" \")"
   ]
  },
  {
   "cell_type": "code",
   "execution_count": 138,
   "metadata": {},
   "outputs": [],
   "source": [
    "s = open(\"C:/Users/jlim13/Google Drive/03. 2019spring/ML/Assignment 0/books/The_Yellow_Wallpaper_by_Charlotte_Perkins_Gilman.rtf\", 'r', encoding=\"utf8\")\n",
    "book19 = s.read()\n",
    "book19 = book19.split(\" \")"
   ]
  },
  {
   "cell_type": "code",
   "execution_count": 139,
   "metadata": {},
   "outputs": [],
   "source": [
    "t = open(\"C:/Users/jlim13/Google Drive/03. 2019spring/ML/Assignment 0/books/Ulysses_by_James_Joyce.rtf\", 'r', encoding=\"utf8\")\n",
    "book20 = t.read()\n",
    "book20 = book20.split(\" \")"
   ]
  },
  {
   "cell_type": "code",
   "execution_count": 140,
   "metadata": {},
   "outputs": [],
   "source": [
    "# A list of all words"
   ]
  },
  {
   "cell_type": "code",
   "execution_count": 141,
   "metadata": {},
   "outputs": [],
   "source": [
    "import itertools\n",
    "books = list(itertools.chain(book2,book3,book4,book5,book6,book7,book8,book9,book10,book11,book12,book13,book14,book15,book16,book17,book18,book19,book20))"
   ]
  },
  {
   "cell_type": "code",
   "execution_count": 142,
   "metadata": {},
   "outputs": [
    {
     "data": {
      "text/plain": [
       "2218935"
      ]
     },
     "execution_count": 142,
     "metadata": {},
     "output_type": "execute_result"
    }
   ],
   "source": [
    "len(books)"
   ]
  },
  {
   "cell_type": "code",
   "execution_count": 143,
   "metadata": {},
   "outputs": [],
   "source": [
    "# number of words"
   ]
  },
  {
   "cell_type": "code",
   "execution_count": 144,
   "metadata": {},
   "outputs": [],
   "source": [
    "num_words=len(books)"
   ]
  },
  {
   "cell_type": "code",
   "execution_count": 145,
   "metadata": {},
   "outputs": [
    {
     "name": "stdout",
     "output_type": "stream",
     "text": [
      "The number of words is  2218935\n"
     ]
    }
   ],
   "source": [
    "print(\"The number of words is \", num_words)"
   ]
  },
  {
   "cell_type": "code",
   "execution_count": 146,
   "metadata": {},
   "outputs": [],
   "source": [
    "from collections import Counter"
   ]
  },
  {
   "cell_type": "code",
   "execution_count": 147,
   "metadata": {},
   "outputs": [
    {
     "data": {
      "text/plain": [
       "[('the', 97378),\n",
       " ('and', 64474),\n",
       " ('to', 56733),\n",
       " ('of', 54204),\n",
       " ('a', 41300),\n",
       " ('I', 36607),\n",
       " ('in', 30869),\n",
       " ('', 26059),\n",
       " ('was', 24708),\n",
       " ('that', 23199),\n",
       " ('he', 21668),\n",
       " ('his', 19750),\n",
       " ('you', 18014),\n",
       " ('it', 17218),\n",
       " ('with', 17121),\n",
       " ('had', 15851),\n",
       " ('as', 14957),\n",
       " ('for', 14614),\n",
       " ('her', 13797),\n",
       " ('my', 13499),\n",
       " ('not', 13375),\n",
       " ('is', 12951),\n",
       " ('at', 12544),\n",
       " ('on', 11942),\n",
       " ('be', 11436),\n",
       " ('have', 11077),\n",
       " ('she', 10150),\n",
       " ('but', 9198),\n",
       " ('said', 8435),\n",
       " ('by', 8319),\n",
       " ('all', 8312),\n",
       " ('me', 8027),\n",
       " ('so', 7402),\n",
       " ('him', 7155),\n",
       " ('which', 7151),\n",
       " ('from', 6948),\n",
       " ('this', 6341),\n",
       " ('or', 6324),\n",
       " ('were', 6078),\n",
       " ('they', 6028),\n",
       " ('would', 5775),\n",
       " ('we', 5552),\n",
       " ('\\\\uc0\\\\u65533', 5536),\n",
       " ('\\n\\\\f0', 5536),\n",
       " ('your', 5307),\n",
       " ('are', 5164),\n",
       " ('when', 5110),\n",
       " ('will', 5106),\n",
       " ('one', 5080),\n",
       " ('if', 5059)]"
      ]
     },
     "execution_count": 147,
     "metadata": {},
     "output_type": "execute_result"
    }
   ],
   "source": [
    "Counter(books).most_common(50)"
   ]
  },
  {
   "cell_type": "code",
   "execution_count": 148,
   "metadata": {},
   "outputs": [],
   "source": [
    "counts = dict(Counter(books).most_common(50))"
   ]
  },
  {
   "cell_type": "code",
   "execution_count": 149,
   "metadata": {},
   "outputs": [],
   "source": [
    "import numpy as np\n",
    "import matplotlib.pyplot as plt"
   ]
  },
  {
   "cell_type": "code",
   "execution_count": 150,
   "metadata": {},
   "outputs": [
    {
     "data": {
      "image/png": "[encoded data removed]",
      "text/plain": [
       "<Figure size 432x288 with 1 Axes>"
      ]
     },
     "metadata": {},
     "output_type": "display_data"
    }
   ],
   "source": [
    "labels, values = zip(*counts.items())\n",
    "\n",
    "# sort the values in descending order\n",
    "indSort = np.argsort(values)[::-1]\n",
    "\n",
    "# rearrange the data\n",
    "labels = np.array(labels)[indSort]\n",
    "values = np.array(values)[indSort]\n",
    "\n",
    "indexes = np.arange(len(labels))\n",
    "\n",
    "bar_width = 0.35\n",
    "\n",
    "plt.barh(indexes, values, height=0.25)\n",
    "\n",
    "# add labels\n",
    "plt.yticks(indexes + bar_width, labels)\n",
    "plt.xlabel('number of words')\n",
    "plt.title('Top 50 words in the Gutenberg Book corpus')\n",
    "\n",
    "plt.show()"
   ]
  },
  {
   "cell_type": "code",
   "execution_count": null,
   "metadata": {},
   "outputs": [],
   "source": []
  }
 ],
 "metadata": {
  "kernelspec": {
   "display_name": "Python 3",
   "language": "python",
   "name": "python3"
  },
  "language_info": {
   "codemirror_mode": {
    "name": "ipython",
    "version": 3
   },
   "file_extension": ".py",
   "mimetype": "text/x-python",
   "name": "python",
   "nbconvert_exporter": "python",
   "pygments_lexer": "ipython3",
   "version": "3.6.5"
  }
 },
 "nbformat": 4,
 "nbformat_minor": 2
}
